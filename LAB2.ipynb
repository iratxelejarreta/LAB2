{
 "cells": [
  {
   "cell_type": "markdown",
   "metadata": {},
   "source": [
    "# LABORATORIO 2: Simulación de física de partículas con Geant4"
   ]
  },
  {
   "cell_type": "markdown",
   "metadata": {},
   "source": [
    "En el segundo labotario trataremos de simular la interacción de partículas con ciertos medios con Geant4.\n",
    "\n",
    "A continuación, se describen los pasos que se han seguido en el desarrollo del laboratorio:\n",
    "\n",
    "## Instalación\n",
    "En primer lugar, instalamos Docker (una máquina virtual ya creada para nuestro propósito) y comprobamos que la instalación ha sido correcta, ejecutando una primera prueba:\n",
    "![](img/img1.png)\n",
    "\n",
    "En segundo lugar, instalamos geant4-example:\n",
    "![](img/img2.png)"
   ]
  },
  {
   "cell_type": "markdown",
   "metadata": {},
   "source": [
    "## Ejecución \n",
    "\n",
    "Creamos un nuevo Notebook, donde copiaremos el código Phyton del fichero <code>practica-geant4.py</code>:\n",
    "\n",
    "<pre><code>\n",
    "#!/usr/bin/env python\n",
    "# -*- coding: utf-8 -*-\n",
    "\n",
    "import Geant4\n",
    "from Geant4 import *\n",
    "import g4py.NISTmaterials\n",
    "import g4py.ezgeom\n",
    "from g4py.ezgeom import G4EzVolume\n",
    "import g4py.EMSTDpl\n",
    "import g4py.ParticleGun\n",
    "import g4py.MedicalBeam\n",
    "import os.path\n",
    "\n",
    "# Tipo de render: \"surface\" o \"wireframe\"\n",
    "tipo_de_render = \"wireframe\"\n",
    "\n",
    "# Tipo de partículas: gamma, e+ ó e-\n",
    "tipo_de_particulas = \"gamma\"\n",
    "\n",
    "# Número de partículas en el haz\n",
    "numero_de_particulas = 10\n",
    "\n",
    "# Energía de las particulas (en MeV)\n",
    "energia_de_las_particulas = 1e1\n",
    "\n",
    "# Grosor del fantoma (en cm)\n",
    "grosor_del_fantoma = 20\n",
    "\n",
    "# Material del fantoma\n",
    "# La lista de materiales la tienes en el enunciado\n",
    "# http://geant4.cern.ch/geant4/UserDocumentation/UsersGuides/ForApplicationDeveloper/BackupVersions/V9.4/html/apas09.html\n",
    "# Aquí tienes algunos: G4_Al, G4_Si, G4_Ar, G4_Cu, G4_Fe, G4_Ge, G4_Ag, G4_W, G4_Au, G4_Pb, G4_AIR, G4_Galactic, G4_WATER H_2O, G4_CESIUM_IODIDE, G4_SODIUM_IODIDE, G4_PLASTIC_SC_VINYLTOLUENE, G4_MYLAR\n",
    "material_del_fantoma = \"G4_WATER\"\n",
    "\n",
    "# Colores de las trazas para que las puedas seguir en el diagrama 3D\n",
    "color_electrones = \"yellow\"\n",
    "color_positrones = \"green\"\n",
    "color_fotones = \"white\"\n",
    "color_protones = \"blue\"\n",
    "\n",
    "rand_engine = Ranlux64Engine()\n",
    "HepRandom.setTheEngine(rand_engine)\n",
    "HepRandom.setTheSeed(20050830)\n",
    "\n",
    "g4py.NISTmaterials.Construct()\n",
    "g4py.ezgeom.Construct()  \n",
    "g4py.EMSTDpl.Construct()\n",
    "g4py.ParticleGun.Construct()\n",
    "\n",
    "# El espacio hasta llegar al fantoma, supongamos que es aire, pero también\n",
    "# puedes simular que es el vacío intergaláctico con \"G4_Galactic\"\n",
    "air = G4Material.GetMaterial(\"G4_AIR\")\n",
    "g4py.ezgeom.SetWorldMaterial(air)\n",
    "g4py.ezgeom.ResizeWorld(120.*cm, 120.*cm, 400.*cm)\n",
    "\n",
    "# Definimos un fantoma y lo situamos en la escena\n",
    "phantom_material = G4Material.GetMaterial(material_del_fantoma)\n",
    "phantom = G4EzVolume(\"PhantomBox\")\n",
    "phantom_zwidth = grosor_del_fantoma*cm\n",
    "phantom_zlocation = 100.*cm\n",
    "phantom.CreateBoxVolume(phantom_material, 100.0 * cm, 100.0 * cm, phantom_zwidth)\n",
    "phantom.SetColor(0., 0.9, 1.0)\n",
    "phantom_box_pv = phantom.PlaceIt(G4ThreeVector(0.*cm, 0.*cm, phantom_zlocation))\n",
    "\n",
    "# Creamos un haz de partículas y lo dirigimos contra el fantoma\n",
    "beam = g4py.MedicalBeam.Construct()\n",
    "beam.particle = tipo_de_particulas\n",
    "beam.kineticE = energia_de_las_particulas*MeV\n",
    "beam.sourcePosition = G4ThreeVector(0.*cm, 0.*cm, -90.*cm)\n",
    "beam.fieldXY = [120.*cm, 120.*cm]\n",
    "beam.SSD = 190.*cm\n",
    "\n",
    "# http://geant4.slac.stanford.edu/Presentations/vis/G4VisCommands.pdf\n",
    "# http://geant4.slac.stanford.edu/Presentations/vis/G4VisAdvanced.pdf\n",
    "\n",
    "# Los siguientes comandos son para generar la escena en un fichero VRML\n",
    "gApplyUICommand(\"/run/initialize\")\n",
    "gApplyUICommand(\"/vis/viewer/flush\")\n",
    "gApplyUICommand(\"/vis/open VRML2FILE\")\n",
    "gApplyUICommand(\"/vis/viewer/refresh\")\n",
    "gApplyUICommand(\"/vis/scene/create\")\n",
    "gApplyUICommand(\"/vis/scene/add/volume\")\n",
    "gApplyUICommand(\"/vis/drawVolume\")\n",
    "gApplyUICommand(\"/vis/modeling/trajectories/create/drawByParticleID\")\n",
    "gApplyUICommand(\"/vis/modeling/trajectories/drawByParticleID-0/set gamma \" + color_fotones)\n",
    "gApplyUICommand(\"/vis/modeling/trajectories/drawByParticleID-0/set proton \" + color_protones) \n",
    "gApplyUICommand(\"/vis/modeling/trajectories/drawByParticleID-0/set e- \" + color_electrones) \n",
    "gApplyUICommand(\"/vis/modeling/trajectories/drawByParticleID-0/set e+ \" + color_positrones) \n",
    "gApplyUICommand(\"/vis/sceneHandler/attach\")\n",
    "gApplyUICommand(\"/vis/viewer/set/style \" + tipo_de_render)\n",
    "gApplyUICommand(\"/vis/viewer/set/viewpointThetaPhi 70. 10.\")\n",
    "gApplyUICommand(\"/vis/viewer/zoom 1.\")\n",
    "gApplyUICommand(\"/tracking/storeTrajectory 1\")\n",
    "gApplyUICommand(\"/vis/scene/add/trajectories\")\n",
    "gApplyUICommand(\"/vis/scene/add/hits\")\n",
    "gApplyUICommand(\"/vis/scene/add/trajectories smooth\")\n",
    "gApplyUICommand(\"/vis/scene/endOfEventAction accumulate\")\n",
    "gRunManager.Initialize()\n",
    "gRunManager.BeamOn(numero_de_particulas)\n",
    "os.rename(\"g4_00.wrl\", \"simulacion.wrl\")\n",
    "</code></pre>\n",
    "\n",
    "Ejecutamos el Notebook y nos genera el archivo <strong>simulacion.wrl</strong>. Descargamos el fichero para abrirlo con Instant Player (aplicación que previamente hemos instalado) para visualizar la simulación.\n",
    "\n",
    "![](img/img4.png)\n",
    "\n"
   ]
  },
  {
   "cell_type": "markdown",
   "metadata": {},
   "source": [
    "## Ejemplos de interacciones producidas en Geant4\n",
    "\n"
   ]
  },
  {
   "cell_type": "markdown",
   "metadata": {},
   "source": [
    "Producción de 10 fotones (partículas de tipo gamma), con energia de 1 MeV, con un fantoma de 20 cm y el fantoma será de agua. Los fotones se mostrarán en blanco, los positrones en verde, los electrones en amarillo y los protones en azul. \n",
    "En el resultado se visualizan electrones:\n",
    "![](img/e1.png)"
   ]
  },
  {
   "cell_type": "markdown",
   "metadata": {},
   "source": [
    "Producción de 100 partículas y en el resultado se visualizan positrones y protones:\n",
    "![](img/e2.png)"
   ]
  },
  {
   "cell_type": "markdown",
   "metadata": {},
   "source": [
    "Producción de 10 fotones y el fantoma será de Aluminio: \n",
    "![](img/e3.png)"
   ]
  },
  {
   "cell_type": "markdown",
   "metadata": {},
   "source": [
    "Producción de 10 fotones y con energía de 2 MeV, se produce el efecto Compton, es decir, choca el electron y vuelve:\n",
    "![](img/e4.png)"
   ]
  },
  {
   "cell_type": "markdown",
   "metadata": {},
   "source": [
    "Con una producción de 15 fotones y con energía de 20 MeV, se genera la producción a pares:\n",
    "![](img/e5.png)"
   ]
  }
 ],
 "metadata": {
  "kernelspec": {
   "display_name": "Python 3",
   "language": "python",
   "name": "python3"
  },
  "language_info": {
   "codemirror_mode": {
    "name": "ipython",
    "version": 3
   },
   "file_extension": ".py",
   "mimetype": "text/x-python",
   "name": "python",
   "nbconvert_exporter": "python",
   "pygments_lexer": "ipython3",
   "version": "3.6.3"
  }
 },
 "nbformat": 4,
 "nbformat_minor": 2
}
